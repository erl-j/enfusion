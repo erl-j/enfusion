{
 "cells": [
  {
   "cell_type": "code",
   "execution_count": 3,
   "metadata": {},
   "outputs": [
    {
     "name": "stdout",
     "output_type": "stream",
     "text": [
      "--2023-01-20 11:05:40--  https://storage.googleapis.com/a-chill-bucket/enfusion_single_note_large_epoch%3D4999-step%3D110000.ckpt\n",
      "Resolving storage.googleapis.com (storage.googleapis.com)... 142.250.181.240, 142.250.185.144, 142.250.74.208, ...\n",
      "Connecting to storage.googleapis.com (storage.googleapis.com)|142.250.181.240|:443... connected.\n",
      "HTTP request sent, awaiting response... 200 OK\n",
      "Length: 263692701 (251M) [application/octet-stream]\n",
      "Saving to: ‘enfusion_single_note_large_epoch=4999-step=110000.ckpt’\n",
      "\n",
      "enfusion_single_not 100%[===================>] 251.48M  89.4MB/s    in 2.8s    \n",
      "\n",
      "2023-01-20 11:05:43 (89.4 MB/s) - ‘enfusion_single_note_large_epoch=4999-step=110000.ckpt’ saved [263692701/263692701]\n",
      "\n"
     ]
    }
   ],
   "source": [
    "!wget https://storage.googleapis.com/a-chill-bucket/enfusion_single_note_large_epoch%3D4999-step%3D110000.ckpt"
   ]
  },
  {
   "cell_type": "code",
   "execution_count": 11,
   "metadata": {},
   "outputs": [
    {
     "data": {
      "application/vnd.jupyter.widget-view+json": {
       "model_id": "8b9c9ff2c11143748b9690d61fb9e8e9",
       "version_major": 2,
       "version_minor": 0
      },
      "text/plain": [
       "  0%|          | 0/100 [00:00<?, ?it/s]"
      ]
     },
     "metadata": {},
     "output_type": "display_data"
    }
   ],
   "source": [
    "from text2sound import text2sound, plot_and_hear\n",
    "\n",
    "audio = text2sound(\"monsterous bass\", 100, 4)\n",
    "\n",
    "plot_and_hear(audio, 48000)"
   ]
  },
  {
   "cell_type": "code",
   "execution_count": null,
   "metadata": {},
   "outputs": [],
   "source": []
  }
 ],
 "metadata": {
  "kernelspec": {
   "display_name": "base",
   "language": "python",
   "name": "python3"
  },
  "language_info": {
   "codemirror_mode": {
    "name": "ipython",
    "version": 3
   },
   "file_extension": ".py",
   "mimetype": "text/x-python",
   "name": "python",
   "nbconvert_exporter": "python",
   "pygments_lexer": "ipython3",
   "version": "3.10.8"
  },
  "orig_nbformat": 4,
  "vscode": {
   "interpreter": {
    "hash": "d4d1e4263499bec80672ea0156c357c1ee493ec2b1c70f0acce89fc37c4a6abe"
   }
  }
 },
 "nbformat": 4,
 "nbformat_minor": 2
}
